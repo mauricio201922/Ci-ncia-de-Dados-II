{
  "nbformat": 4,
  "nbformat_minor": 0,
  "metadata": {
    "colab": {
      "name": "TrabalhoAula2.ipynb",
      "provenance": [],
      "mount_file_id": "1tXZgiKK_4lZ0F3Vhi-DojPVMAm9Nx2t4",
      "authorship_tag": "ABX9TyM+yjW+DRC/JY2GovpZ/PaJ",
      "include_colab_link": true
    },
    "kernelspec": {
      "name": "python3",
      "display_name": "Python 3"
    },
    "language_info": {
      "name": "python"
    }
  },
  "cells": [
    {
      "cell_type": "markdown",
      "metadata": {
        "id": "view-in-github",
        "colab_type": "text"
      },
      "source": [
        "<a href=\"https://colab.research.google.com/github/mauricio201922/DataScience-2/blob/main/TrabalhoAula2.ipynb\" target=\"_parent\"><img src=\"https://colab.research.google.com/assets/colab-badge.svg\" alt=\"Open In Colab\"/></a>"
      ]
    },
    {
      "cell_type": "markdown",
      "metadata": {
        "id": "-IYu4leeDXtn"
      },
      "source": [
        "# **Nomes**\n",
        "\n",
        "- Mauricio Ramos\n",
        "- Laura Sanchez"
      ]
    },
    {
      "cell_type": "code",
      "metadata": {
        "id": "tdSF5YyA0ClM"
      },
      "source": [
        "import numpy\n",
        "from sklearn.feature_extraction.text import CountVectorizer"
      ],
      "execution_count": 10,
      "outputs": []
    },
    {
      "cell_type": "code",
      "metadata": {
        "id": "GIw7esWcMJKt"
      },
      "source": [
        "from sklearn.naive_bayes import BernoulliNB"
      ],
      "execution_count": 97,
      "outputs": []
    },
    {
      "cell_type": "code",
      "metadata": {
        "id": "gazMsjzQy4ox"
      },
      "source": [
        "import os\n",
        "\n",
        "NEWLINE = '\\n'\n",
        "SKIP_FILES = set(['cmds'])\n",
        "\n",
        "def read_files(path):\n",
        "    for root, dir_names, file_names in os.walk(path):\n",
        "        for path in dir_names:\n",
        "            read_files(os.path.join(root, path))\n",
        "    for file_name in file_names:\n",
        "        if file_name not in SKIP_FILES:\n",
        "            file_path = os.path.join(root, file_name)\n",
        "        if os.path.isfile(file_path):\n",
        "            past_header, lines = False, []\n",
        "            #f = open(file_path)\n",
        "            f = open(file_path, mode=\"r\", encoding=\"Latin-1\")\n",
        "            for line in f:\n",
        "                if past_header:\n",
        "                    lines.append(line)\n",
        "                elif line == NEWLINE:\n",
        "                    past_header = True\n",
        "            f.close()\n",
        "            yield file_path, NEWLINE.join(lines)#.decode('cp1252', 'ignore')"
      ],
      "execution_count": 64,
      "outputs": []
    },
    {
      "cell_type": "code",
      "metadata": {
        "id": "ti7TOowFzA2A"
      },
      "source": [
        "from pandas import DataFrame\n",
        "\n",
        "def build_data_frame(path, classification):\n",
        "  data_frame = DataFrame({'text': [], 'class': []})\n",
        "  for file_name, text in read_files(path):\n",
        "    data_frame = data_frame.append(\n",
        "        DataFrame({'text': [text], 'class': [classification]}, index=[file_name]))\n",
        "  return data_frame"
      ],
      "execution_count": 65,
      "outputs": []
    },
    {
      "cell_type": "code",
      "metadata": {
        "id": "l7lUNuUDzEiv"
      },
      "source": [
        "HAM = 0\n",
        "SPAM = 1\n",
        "\n",
        "SOURCES = [\n",
        "      ('/content/drive/MyDrive/spamassassin/spam', SPAM),\n",
        "      ('/content/drive/MyDrive/spamassassin/hard_ham', HAM),\n",
        "      ('/content/drive/MyDrive/spamassassin/easy_ham', HAM)\n",
        "    ]\n",
        "\n",
        "data = DataFrame({'text': [], 'class': []})\n",
        "for path, classification in SOURCES:\n",
        "  data = data.append(build_data_frame(path, classification))\n",
        "  \n",
        "data = data.reindex(numpy.random.permutation(data.index))"
      ],
      "execution_count": 66,
      "outputs": []
    },
    {
      "cell_type": "code",
      "metadata": {
        "id": "tvwr_wAD0Pyc"
      },
      "source": [
        "count_vectorizer = CountVectorizer()\n",
        "counts = count_vectorizer.fit_transform(numpy.asarray(data['text']))"
      ],
      "execution_count": 67,
      "outputs": []
    },
    {
      "cell_type": "code",
      "metadata": {
        "colab": {
          "base_uri": "https://localhost:8080/"
        },
        "id": "hszShM7N69Uw",
        "outputId": "07c4ca7a-9523-4abc-d115-7c12c6cbbaba"
      },
      "source": [
        "from sklearn.naive_bayes import MultinomialNB\n",
        "\n",
        "classifier = MultinomialNB()\n",
        "targets = numpy.asarray(data['class'])\n",
        "classifier.fit(counts, targets)"
      ],
      "execution_count": 68,
      "outputs": [
        {
          "output_type": "execute_result",
          "data": {
            "text/plain": [
              "MultinomialNB(alpha=1.0, class_prior=None, fit_prior=True)"
            ]
          },
          "metadata": {},
          "execution_count": 68
        }
      ]
    },
    {
      "cell_type": "code",
      "metadata": {
        "colab": {
          "base_uri": "https://localhost:8080/"
        },
        "id": "LL4PFYctD7Sk",
        "outputId": "618df8e3-2738-4f84-c40e-c1b3360871ac"
      },
      "source": [
        "examples = ['Free Viagra call today!', \"I'm going to attend the Linux users group tomorrow.\"]\n",
        "example_counts = count_vectorizer.transform(examples)\n",
        "predictions = classifier.predict(example_counts)\n",
        "predictions # [1, 0]"
      ],
      "execution_count": 71,
      "outputs": [
        {
          "output_type": "execute_result",
          "data": {
            "text/plain": [
              "array([1., 0.])"
            ]
          },
          "metadata": {},
          "execution_count": 71
        }
      ]
    },
    {
      "cell_type": "code",
      "metadata": {
        "colab": {
          "base_uri": "https://localhost:8080/"
        },
        "id": "7cXYY_seFcDK",
        "outputId": "ec5250f5-5474-4731-8f14-bf6f147520c7"
      },
      "source": [
        "from sklearn.pipeline import Pipeline\n",
        "\n",
        "pipeline = Pipeline([\n",
        "  ('vectorizer',  CountVectorizer()),\n",
        "  ('classifier',  MultinomialNB()) ])\n",
        "\n",
        "pipeline.fit(numpy.asarray(data['text']), numpy.asarray(data['class']))\n",
        "pipeline.predict(examples) # [1, 0]"
      ],
      "execution_count": 72,
      "outputs": [
        {
          "output_type": "execute_result",
          "data": {
            "text/plain": [
              "array([1., 0.])"
            ]
          },
          "metadata": {},
          "execution_count": 72
        }
      ]
    },
    {
      "cell_type": "code",
      "metadata": {
        "colab": {
          "base_uri": "https://localhost:8080/",
          "height": 389
        },
        "id": "obAgoEbbNQW5",
        "outputId": "530038d3-63cd-46af-8ba0-43f9cefa1b40"
      },
      "source": [
        "from sklearn.cross_validation import KFold\n",
        "\n",
        "k_fold = KFold(n=len(data), n_folds=6, indices=False)\n",
        "scores = []\n",
        "for train_indices, test_indices in k_fold:\n",
        "  train_text = numpy.asarray(data[train_indices]['text'])\n",
        "  train_y    = numpy.asarray(data[train_indices]['class'])\n",
        "\n",
        "  test_text  = numpy.asarray(data[test_indices]['text'])\n",
        "  test_y     = numpy.asarray(data[test_indices]['class'])\n",
        "\n",
        "  pipeline.fit(train_text, train_y)\n",
        "  score = pipeline.score(test_text, test_y)\n",
        "  scores.append(score)\n",
        "\n",
        "score = sum(scores) / len(scores)"
      ],
      "execution_count": 105,
      "outputs": [
        {
          "output_type": "error",
          "ename": "ModuleNotFoundError",
          "evalue": "ignored",
          "traceback": [
            "\u001b[0;31m---------------------------------------------------------------------------\u001b[0m",
            "\u001b[0;31mModuleNotFoundError\u001b[0m                       Traceback (most recent call last)",
            "\u001b[0;32m<ipython-input-105-b57d9c95e96f>\u001b[0m in \u001b[0;36m<module>\u001b[0;34m()\u001b[0m\n\u001b[0;32m----> 1\u001b[0;31m \u001b[0;32mfrom\u001b[0m \u001b[0msklearn\u001b[0m\u001b[0;34m.\u001b[0m\u001b[0mcross_validation\u001b[0m \u001b[0;32mimport\u001b[0m \u001b[0mKFold\u001b[0m\u001b[0;34m\u001b[0m\u001b[0;34m\u001b[0m\u001b[0m\n\u001b[0m\u001b[1;32m      2\u001b[0m \u001b[0;34m\u001b[0m\u001b[0m\n\u001b[1;32m      3\u001b[0m \u001b[0mk_fold\u001b[0m \u001b[0;34m=\u001b[0m \u001b[0mKFold\u001b[0m\u001b[0;34m(\u001b[0m\u001b[0mn\u001b[0m\u001b[0;34m=\u001b[0m\u001b[0mlen\u001b[0m\u001b[0;34m(\u001b[0m\u001b[0mdata\u001b[0m\u001b[0;34m)\u001b[0m\u001b[0;34m,\u001b[0m \u001b[0mn_folds\u001b[0m\u001b[0;34m=\u001b[0m\u001b[0;36m6\u001b[0m\u001b[0;34m,\u001b[0m \u001b[0mindices\u001b[0m\u001b[0;34m=\u001b[0m\u001b[0;32mFalse\u001b[0m\u001b[0;34m)\u001b[0m\u001b[0;34m\u001b[0m\u001b[0;34m\u001b[0m\u001b[0m\n\u001b[1;32m      4\u001b[0m \u001b[0mscores\u001b[0m \u001b[0;34m=\u001b[0m \u001b[0;34m[\u001b[0m\u001b[0;34m]\u001b[0m\u001b[0;34m\u001b[0m\u001b[0;34m\u001b[0m\u001b[0m\n\u001b[1;32m      5\u001b[0m \u001b[0;32mfor\u001b[0m \u001b[0mtrain_indices\u001b[0m\u001b[0;34m,\u001b[0m \u001b[0mtest_indices\u001b[0m \u001b[0;32min\u001b[0m \u001b[0mk_fold\u001b[0m\u001b[0;34m:\u001b[0m\u001b[0;34m\u001b[0m\u001b[0;34m\u001b[0m\u001b[0m\n",
            "\u001b[0;31mModuleNotFoundError\u001b[0m: No module named 'sklearn.cross_validation'",
            "",
            "\u001b[0;31m---------------------------------------------------------------------------\u001b[0;32m\nNOTE: If your import is failing due to a missing package, you can\nmanually install dependencies using either !pip or !apt.\n\nTo view examples of installing some common dependencies, click the\n\"Open Examples\" button below.\n\u001b[0;31m---------------------------------------------------------------------------\u001b[0m\n"
          ],
          "errorDetails": {
            "actions": [
              {
                "action": "open_url",
                "actionText": "Open Examples",
                "url": "/notebooks/snippets/importing_libraries.ipynb"
              }
            ]
          }
        }
      ]
    },
    {
      "cell_type": "code",
      "metadata": {
        "id": "w_U3gk5cIiSy"
      },
      "source": [
        "pipeline = Pipeline([\n",
        "  ('count_vectorizer',   CountVectorizer(ngram_range=(1, 2))),\n",
        "  ('classifier',         BernoulliNB(binarize=0.0)) ])"
      ],
      "execution_count": 99,
      "outputs": []
    },
    {
      "cell_type": "code",
      "metadata": {
        "colab": {
          "base_uri": "https://localhost:8080/",
          "height": 225
        },
        "id": "BV2jPHYANXEz",
        "outputId": "ee750ebc-18de-43fd-9e97-72d545bd5290"
      },
      "source": [
        "pipeline = Pipeline([\n",
        "  ('count_vectorizer',   CountVectorizer(ngram_range=(1, 2))),\n",
        "  ('tfidf_transformer',  TfidfTransformer()),\n",
        "  ('classifier',         MultinomialNB()) ])"
      ],
      "execution_count": 106,
      "outputs": [
        {
          "output_type": "error",
          "ename": "NameError",
          "evalue": "ignored",
          "traceback": [
            "\u001b[0;31m---------------------------------------------------------------------------\u001b[0m",
            "\u001b[0;31mNameError\u001b[0m                                 Traceback (most recent call last)",
            "\u001b[0;32m<ipython-input-106-b52108e62bdc>\u001b[0m in \u001b[0;36m<module>\u001b[0;34m()\u001b[0m\n\u001b[1;32m      1\u001b[0m pipeline = Pipeline([\n\u001b[1;32m      2\u001b[0m   \u001b[0;34m(\u001b[0m\u001b[0;34m'count_vectorizer'\u001b[0m\u001b[0;34m,\u001b[0m   \u001b[0mCountVectorizer\u001b[0m\u001b[0;34m(\u001b[0m\u001b[0mngram_range\u001b[0m\u001b[0;34m=\u001b[0m\u001b[0;34m(\u001b[0m\u001b[0;36m1\u001b[0m\u001b[0;34m,\u001b[0m \u001b[0;36m2\u001b[0m\u001b[0;34m)\u001b[0m\u001b[0;34m)\u001b[0m\u001b[0;34m)\u001b[0m\u001b[0;34m,\u001b[0m\u001b[0;34m\u001b[0m\u001b[0;34m\u001b[0m\u001b[0m\n\u001b[0;32m----> 3\u001b[0;31m   \u001b[0;34m(\u001b[0m\u001b[0;34m'tfidf_transformer'\u001b[0m\u001b[0;34m,\u001b[0m  \u001b[0mTfidfTransformer\u001b[0m\u001b[0;34m(\u001b[0m\u001b[0;34m)\u001b[0m\u001b[0;34m)\u001b[0m\u001b[0;34m,\u001b[0m\u001b[0;34m\u001b[0m\u001b[0;34m\u001b[0m\u001b[0m\n\u001b[0m\u001b[1;32m      4\u001b[0m   ('classifier',         MultinomialNB()) ])\n",
            "\u001b[0;31mNameError\u001b[0m: name 'TfidfTransformer' is not defined"
          ]
        }
      ]
    },
    {
      "cell_type": "code",
      "metadata": {
        "id": "kF3AHnroN2JX"
      },
      "source": [
        "pipeline = Pipeline([\n",
        "  ('count_vectorizer',   CountVectorizer(ngram_range=(1, 2))),\n",
        "  ('classifier',         BernoulliNB(binarize=0.0)) ])"
      ],
      "execution_count": 108,
      "outputs": []
    },
    {
      "cell_type": "code",
      "metadata": {
        "colab": {
          "base_uri": "https://localhost:8080/",
          "height": 753
        },
        "id": "T-4f1nnXMV3u",
        "outputId": "97ed65ae-a415-407c-a653-64f677d8901f"
      },
      "source": [
        "data"
      ],
      "execution_count": 104,
      "outputs": [
        {
          "output_type": "execute_result",
          "data": {
            "text/html": [
              "<div>\n",
              "<style scoped>\n",
              "    .dataframe tbody tr th:only-of-type {\n",
              "        vertical-align: middle;\n",
              "    }\n",
              "\n",
              "    .dataframe tbody tr th {\n",
              "        vertical-align: top;\n",
              "    }\n",
              "\n",
              "    .dataframe thead th {\n",
              "        text-align: right;\n",
              "    }\n",
              "</style>\n",
              "<table border=\"1\" class=\"dataframe\">\n",
              "  <thead>\n",
              "    <tr style=\"text-align: right;\">\n",
              "      <th></th>\n",
              "      <th>text</th>\n",
              "      <th>class</th>\n",
              "    </tr>\n",
              "  </thead>\n",
              "  <tbody>\n",
              "    <tr>\n",
              "      <th>/content/drive/MyDrive/spamassassin/hard_ham/0174.b78c73f91532150a15ced38fddbbedf4</th>\n",
              "      <td>I did more testing with your patch on top of t...</td>\n",
              "      <td>0.0</td>\n",
              "    </tr>\n",
              "    <tr>\n",
              "      <th>/content/drive/MyDrive/spamassassin/easy_ham/0775.380d5908cc272338fc163b1d1a748e8c</th>\n",
              "      <td>\\n\\nIn a message dated 9/22/2002 11:38:01 PM, ...</td>\n",
              "      <td>0.0</td>\n",
              "    </tr>\n",
              "    <tr>\n",
              "      <th>/content/drive/MyDrive/spamassassin/easy_ham/1166.8a9dbee6ac67226f58a80c0993a700e2</th>\n",
              "      <td>On Mon, Feb 04, 2002 at 02:33:29PM +0200, Pete...</td>\n",
              "      <td>0.0</td>\n",
              "    </tr>\n",
              "    <tr>\n",
              "      <th>/content/drive/MyDrive/spamassassin/spam/0482.d2338d94e40e6028a89c0a197ed7c470</th>\n",
              "      <td>&lt;HTML&gt;&lt;FONT  SIZE=2 PTSIZE=10 FAMILY=\"SANSSERI...</td>\n",
              "      <td>1.0</td>\n",
              "    </tr>\n",
              "    <tr>\n",
              "      <th>/content/drive/MyDrive/spamassassin/easy_ham/0399.20be4fa82cc4b6342cf49fc6606c492e</th>\n",
              "      <td>Justin Mason writes:\\n\\n&gt; Has anyone figured o...</td>\n",
              "      <td>0.0</td>\n",
              "    </tr>\n",
              "    <tr>\n",
              "      <th>...</th>\n",
              "      <td>...</td>\n",
              "      <td>...</td>\n",
              "    </tr>\n",
              "    <tr>\n",
              "      <th>/content/drive/MyDrive/spamassassin/easy_ham/1294.13f4a38babc2d7f26fc0f6867694cbd4</th>\n",
              "      <td>&gt; Is it possible to use new apt to do (null) t...</td>\n",
              "      <td>0.0</td>\n",
              "    </tr>\n",
              "    <tr>\n",
              "      <th>/content/drive/MyDrive/spamassassin/easy_ham/0359.7f80dc1df7de3b5121e43f29f0a9e911</th>\n",
              "      <td>On Sat, 24 Aug 2002 11:07:00 -0700, \"John Hall...</td>\n",
              "      <td>0.0</td>\n",
              "    </tr>\n",
              "    <tr>\n",
              "      <th>/content/drive/MyDrive/spamassassin/easy_ham/0644.465fabd80d5659bce12a75942fc62c06</th>\n",
              "      <td>On Mon, 16 Sep 2002, Stephen D. Williams wrote...</td>\n",
              "      <td>0.0</td>\n",
              "    </tr>\n",
              "    <tr>\n",
              "      <th>/content/drive/MyDrive/spamassassin/spam/0160.b6b241d37fa9d5f772afca9ef30034c3</th>\n",
              "      <td>Everybody gets paid.  No recruiting required.\\...</td>\n",
              "      <td>1.0</td>\n",
              "    </tr>\n",
              "    <tr>\n",
              "      <th>/content/drive/MyDrive/spamassassin/spam/0409.09cb28cd8753bff06fc8a547c3ed8fe2</th>\n",
              "      <td>&lt;!DOCTYPE HTML PUBLIC \"-//W3C//DTD HTML 4.0 Tr...</td>\n",
              "      <td>1.0</td>\n",
              "    </tr>\n",
              "  </tbody>\n",
              "</table>\n",
              "<p>1996 rows × 2 columns</p>\n",
              "</div>"
            ],
            "text/plain": [
              "                                                                                                 text  class\n",
              "/content/drive/MyDrive/spamassassin/hard_ham/01...  I did more testing with your patch on top of t...    0.0\n",
              "/content/drive/MyDrive/spamassassin/easy_ham/07...  \\n\\nIn a message dated 9/22/2002 11:38:01 PM, ...    0.0\n",
              "/content/drive/MyDrive/spamassassin/easy_ham/11...  On Mon, Feb 04, 2002 at 02:33:29PM +0200, Pete...    0.0\n",
              "/content/drive/MyDrive/spamassassin/spam/0482.d...  <HTML><FONT  SIZE=2 PTSIZE=10 FAMILY=\"SANSSERI...    1.0\n",
              "/content/drive/MyDrive/spamassassin/easy_ham/03...  Justin Mason writes:\\n\\n> Has anyone figured o...    0.0\n",
              "...                                                                                               ...    ...\n",
              "/content/drive/MyDrive/spamassassin/easy_ham/12...  > Is it possible to use new apt to do (null) t...    0.0\n",
              "/content/drive/MyDrive/spamassassin/easy_ham/03...  On Sat, 24 Aug 2002 11:07:00 -0700, \"John Hall...    0.0\n",
              "/content/drive/MyDrive/spamassassin/easy_ham/06...  On Mon, 16 Sep 2002, Stephen D. Williams wrote...    0.0\n",
              "/content/drive/MyDrive/spamassassin/spam/0160.b...  Everybody gets paid.  No recruiting required.\\...    1.0\n",
              "/content/drive/MyDrive/spamassassin/spam/0409.0...  <!DOCTYPE HTML PUBLIC \"-//W3C//DTD HTML 4.0 Tr...    1.0\n",
              "\n",
              "[1996 rows x 2 columns]"
            ]
          },
          "metadata": {},
          "execution_count": 104
        }
      ]
    }
  ]
}