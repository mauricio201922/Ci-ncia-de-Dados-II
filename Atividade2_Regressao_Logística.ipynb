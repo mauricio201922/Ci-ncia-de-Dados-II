{
  "nbformat": 4,
  "nbformat_minor": 0,
  "metadata": {
    "colab": {
      "name": "Atividade2_Regressao_Logística.ipynb",
      "provenance": [],
      "mount_file_id": "1KToDaQTvtHtPH-DNch1YVPdizloyf1A_",
      "authorship_tag": "ABX9TyPpTRCrrjXA1cpVZTZ4ujW4",
      "include_colab_link": true
    },
    "kernelspec": {
      "name": "python3",
      "display_name": "Python 3"
    },
    "language_info": {
      "name": "python"
    }
  },
  "cells": [
    {
      "cell_type": "markdown",
      "metadata": {
        "id": "view-in-github",
        "colab_type": "text"
      },
      "source": [
        "<a href=\"https://colab.research.google.com/github/mauricio201922/DataScience-2/blob/main/Atividade2_Regressao_Log%C3%ADstica.ipynb\" target=\"_parent\"><img src=\"https://colab.research.google.com/assets/colab-badge.svg\" alt=\"Open In Colab\"/></a>"
      ]
    },
    {
      "cell_type": "code",
      "metadata": {
        "id": "XJwCUqHA6Pu6",
        "colab": {
          "base_uri": "https://localhost:8080/"
        },
        "outputId": "bdd47b47-dbdb-4250-d8df-b1fcce96989e"
      },
      "source": [
        "from google.colab import drive\n",
        "drive.mount('/content/drive')"
      ],
      "execution_count": 94,
      "outputs": [
        {
          "output_type": "stream",
          "name": "stdout",
          "text": [
            "Drive already mounted at /content/drive; to attempt to forcibly remount, call drive.mount(\"/content/drive\", force_remount=True).\n"
          ]
        }
      ]
    },
    {
      "cell_type": "code",
      "metadata": {
        "id": "FxoxTi6H1YRy"
      },
      "source": [
        "import numpy as np\n",
        "import matplotlib.pyplot as plt\n",
        "import pandas as pd"
      ],
      "execution_count": 95,
      "outputs": []
    },
    {
      "cell_type": "code",
      "metadata": {
        "id": "RtCDEFPn50IM"
      },
      "source": [
        "dataset = pd.read_csv('/content/drive/MyDrive/iris.data.csv', delimiter=',', usecols=(0,1,2,3,4))"
      ],
      "execution_count": 96,
      "outputs": []
    },
    {
      "cell_type": "code",
      "metadata": {
        "colab": {
          "base_uri": "https://localhost:8080/",
          "height": 299
        },
        "id": "F05e6jn2LDkf",
        "outputId": "337fa3a9-ebd4-4bf9-f79f-0c0c6e45656f"
      },
      "source": [
        "dataset.describe()"
      ],
      "execution_count": 97,
      "outputs": [
        {
          "output_type": "execute_result",
          "data": {
            "text/html": [
              "<div>\n",
              "<style scoped>\n",
              "    .dataframe tbody tr th:only-of-type {\n",
              "        vertical-align: middle;\n",
              "    }\n",
              "\n",
              "    .dataframe tbody tr th {\n",
              "        vertical-align: top;\n",
              "    }\n",
              "\n",
              "    .dataframe thead th {\n",
              "        text-align: right;\n",
              "    }\n",
              "</style>\n",
              "<table border=\"1\" class=\"dataframe\">\n",
              "  <thead>\n",
              "    <tr style=\"text-align: right;\">\n",
              "      <th></th>\n",
              "      <th>5.1</th>\n",
              "      <th>3.5</th>\n",
              "      <th>1.4</th>\n",
              "      <th>0.2</th>\n",
              "    </tr>\n",
              "  </thead>\n",
              "  <tbody>\n",
              "    <tr>\n",
              "      <th>count</th>\n",
              "      <td>149.000000</td>\n",
              "      <td>149.000000</td>\n",
              "      <td>149.000000</td>\n",
              "      <td>149.000000</td>\n",
              "    </tr>\n",
              "    <tr>\n",
              "      <th>mean</th>\n",
              "      <td>5.848322</td>\n",
              "      <td>3.051007</td>\n",
              "      <td>3.774497</td>\n",
              "      <td>1.205369</td>\n",
              "    </tr>\n",
              "    <tr>\n",
              "      <th>std</th>\n",
              "      <td>0.828594</td>\n",
              "      <td>0.433499</td>\n",
              "      <td>1.759651</td>\n",
              "      <td>0.761292</td>\n",
              "    </tr>\n",
              "    <tr>\n",
              "      <th>min</th>\n",
              "      <td>4.300000</td>\n",
              "      <td>2.000000</td>\n",
              "      <td>1.000000</td>\n",
              "      <td>0.100000</td>\n",
              "    </tr>\n",
              "    <tr>\n",
              "      <th>25%</th>\n",
              "      <td>5.100000</td>\n",
              "      <td>2.800000</td>\n",
              "      <td>1.600000</td>\n",
              "      <td>0.300000</td>\n",
              "    </tr>\n",
              "    <tr>\n",
              "      <th>50%</th>\n",
              "      <td>5.800000</td>\n",
              "      <td>3.000000</td>\n",
              "      <td>4.400000</td>\n",
              "      <td>1.300000</td>\n",
              "    </tr>\n",
              "    <tr>\n",
              "      <th>75%</th>\n",
              "      <td>6.400000</td>\n",
              "      <td>3.300000</td>\n",
              "      <td>5.100000</td>\n",
              "      <td>1.800000</td>\n",
              "    </tr>\n",
              "    <tr>\n",
              "      <th>max</th>\n",
              "      <td>7.900000</td>\n",
              "      <td>4.400000</td>\n",
              "      <td>6.900000</td>\n",
              "      <td>2.500000</td>\n",
              "    </tr>\n",
              "  </tbody>\n",
              "</table>\n",
              "</div>"
            ],
            "text/plain": [
              "              5.1         3.5         1.4         0.2\n",
              "count  149.000000  149.000000  149.000000  149.000000\n",
              "mean     5.848322    3.051007    3.774497    1.205369\n",
              "std      0.828594    0.433499    1.759651    0.761292\n",
              "min      4.300000    2.000000    1.000000    0.100000\n",
              "25%      5.100000    2.800000    1.600000    0.300000\n",
              "50%      5.800000    3.000000    4.400000    1.300000\n",
              "75%      6.400000    3.300000    5.100000    1.800000\n",
              "max      7.900000    4.400000    6.900000    2.500000"
            ]
          },
          "metadata": {},
          "execution_count": 97
        }
      ]
    },
    {
      "cell_type": "code",
      "metadata": {
        "id": "1CvWF9hlMQ0E"
      },
      "source": [
        "X = dataset.iloc[:, [0,1,2, 3]].values\n",
        "y = dataset.iloc[:, 4].values"
      ],
      "execution_count": 98,
      "outputs": []
    },
    {
      "cell_type": "code",
      "metadata": {
        "id": "yFZ1J59cNkLY"
      },
      "source": [
        "from sklearn.model_selection import train_test_split\n",
        "X_train, X_test, y_train, y_test = train_test_split(X, y, test_size = 0.25, random_state = 0)"
      ],
      "execution_count": 99,
      "outputs": []
    },
    {
      "cell_type": "code",
      "metadata": {
        "id": "8GRBvNI4NmsP"
      },
      "source": [
        "from sklearn.preprocessing import StandardScaler\n",
        "sc = StandardScaler()\n",
        "X_train = sc.fit_transform(X_train)\n",
        "X_test = sc.transform(X_test)"
      ],
      "execution_count": 100,
      "outputs": []
    },
    {
      "cell_type": "code",
      "metadata": {
        "colab": {
          "base_uri": "https://localhost:8080/"
        },
        "id": "wWoSfJw7No_H",
        "outputId": "ef4caff8-07a0-42f7-91a8-eb94dbb3a91f"
      },
      "source": [
        "from sklearn.linear_model import LogisticRegression\n",
        "classifier = LogisticRegression(random_state = 0, solver='lbfgs', multi_class='auto')\n",
        "classifier.fit(X_train, y_train)"
      ],
      "execution_count": 101,
      "outputs": [
        {
          "output_type": "execute_result",
          "data": {
            "text/plain": [
              "LogisticRegression(C=1.0, class_weight=None, dual=False, fit_intercept=True,\n",
              "                   intercept_scaling=1, l1_ratio=None, max_iter=100,\n",
              "                   multi_class='auto', n_jobs=None, penalty='l2',\n",
              "                   random_state=0, solver='lbfgs', tol=0.0001, verbose=0,\n",
              "                   warm_start=False)"
            ]
          },
          "metadata": {},
          "execution_count": 101
        }
      ]
    },
    {
      "cell_type": "code",
      "metadata": {
        "id": "kSOA8yZoNuQu"
      },
      "source": [
        "y_pred = classifier.predict(X_test)\n",
        "probs_y=classifier.predict_proba(X_test)"
      ],
      "execution_count": 102,
      "outputs": []
    },
    {
      "cell_type": "code",
      "metadata": {
        "id": "8Kioqx6ZNwIJ"
      },
      "source": [
        "probs_y = np.round(probs_y, 2)"
      ],
      "execution_count": 103,
      "outputs": []
    },
    {
      "cell_type": "code",
      "metadata": {
        "colab": {
          "base_uri": "https://localhost:8080/"
        },
        "id": "cvKJ1Z2NNyIP",
        "outputId": "4711de47-d0d4-42a2-d4b6-1d6559ef2e71"
      },
      "source": [
        "res = \"{:<10} | {:<10} | {:<10} | {:<13} | {:<5}\".format(\"y_test\", \"y_pred\", \"Setosa(%)\", \"versicolor(%)\", \"virginica(%)\\n\")\n",
        "res += \"-\"*65+\"\\n\"\n",
        "res += \"\\n\".join(\"{:<10} | {:<10} | {:<10} | {:<13} | {:<10}\".format(x, y, a, b, c) for x, y, a, b, c in zip(y_test, y_pred, probs_y[:,0], probs_y[:,1], probs_y[:,2]))\n",
        "res += \"\\n\"+\"-\"*65+\"\\n\"\n",
        "print(res)"
      ],
      "execution_count": 104,
      "outputs": [
        {
          "output_type": "stream",
          "name": "stdout",
          "text": [
            "y_test     | y_pred     | Setosa(%)  | versicolor(%) | virginica(%)\n",
            "-----------------------------------------------------------------\n",
            "Iris-virginica | Iris-versicolor | 0.0        | 0.64          | 0.35      \n",
            "Iris-virginica | Iris-virginica | 0.0        | 0.13          | 0.86      \n",
            "Iris-versicolor | Iris-versicolor | 0.01       | 0.98          | 0.01      \n",
            "Iris-versicolor | Iris-versicolor | 0.02       | 0.97          | 0.01      \n",
            "Iris-setosa | Iris-setosa | 0.93       | 0.07          | 0.0       \n",
            "Iris-virginica | Iris-virginica | 0.0        | 0.02          | 0.98      \n",
            "Iris-virginica | Iris-virginica | 0.0        | 0.04          | 0.96      \n",
            "Iris-versicolor | Iris-versicolor | 0.06       | 0.87          | 0.07      \n",
            "Iris-virginica | Iris-versicolor | 0.0        | 0.73          | 0.27      \n",
            "Iris-versicolor | Iris-versicolor | 0.11       | 0.56          | 0.33      \n",
            "Iris-setosa | Iris-setosa | 0.93       | 0.07          | 0.0       \n",
            "Iris-setosa | Iris-setosa | 0.9        | 0.1           | 0.0       \n",
            "Iris-versicolor | Iris-versicolor | 0.03       | 0.88          | 0.1       \n",
            "Iris-setosa | Iris-setosa | 0.86       | 0.14          | 0.0       \n",
            "Iris-setosa | Iris-setosa | 0.96       | 0.04          | 0.0       \n",
            "Iris-virginica | Iris-versicolor | 0.0        | 0.65          | 0.35      \n",
            "Iris-virginica | Iris-virginica | 0.0        | 0.06          | 0.94      \n",
            "Iris-versicolor | Iris-versicolor | 0.02       | 0.9           | 0.08      \n",
            "Iris-setosa | Iris-setosa | 0.98       | 0.02          | 0.0       \n",
            "Iris-setosa | Iris-setosa | 0.99       | 0.01          | 0.0       \n",
            "Iris-setosa | Iris-versicolor | 0.46       | 0.54          | 0.0       \n",
            "Iris-setosa | Iris-setosa | 0.93       | 0.07          | 0.0       \n",
            "Iris-versicolor | Iris-versicolor | 0.01       | 0.71          | 0.28      \n",
            "Iris-setosa | Iris-setosa | 0.93       | 0.07          | 0.0       \n",
            "Iris-versicolor | Iris-versicolor | 0.02       | 0.8           | 0.18      \n",
            "Iris-versicolor | Iris-versicolor | 0.09       | 0.86          | 0.05      \n",
            "Iris-versicolor | Iris-versicolor | 0.03       | 0.8           | 0.17      \n",
            "Iris-setosa | Iris-setosa | 0.97       | 0.03          | 0.0       \n",
            "Iris-setosa | Iris-setosa | 0.99       | 0.01          | 0.0       \n",
            "Iris-virginica | Iris-virginica | 0.0        | 0.01          | 0.99      \n",
            "Iris-setosa | Iris-setosa | 0.96       | 0.04          | 0.0       \n",
            "Iris-versicolor | Iris-versicolor | 0.09       | 0.9           | 0.01      \n",
            "Iris-versicolor | Iris-versicolor | 0.02       | 0.9           | 0.08      \n",
            "Iris-versicolor | Iris-virginica | 0.02       | 0.34          | 0.63      \n",
            "Iris-setosa | Iris-setosa | 0.99       | 0.01          | 0.0       \n",
            "Iris-virginica | Iris-versicolor | 0.02       | 0.62          | 0.37      \n",
            "Iris-virginica | Iris-virginica | 0.0        | 0.2           | 0.79      \n",
            "Iris-versicolor | Iris-versicolor | 0.0        | 0.99          | 0.01      \n",
            "-----------------------------------------------------------------\n",
            "\n"
          ]
        }
      ]
    },
    {
      "cell_type": "code",
      "metadata": {
        "colab": {
          "base_uri": "https://localhost:8080/"
        },
        "id": "b9vMaCQhNzhO",
        "outputId": "bcfa6daf-d25f-42a4-a91a-0ddf684ec9cb"
      },
      "source": [
        "from sklearn.metrics import confusion_matrix\n",
        "cm = confusion_matrix(y_test, y_pred)\n",
        "print(cm)"
      ],
      "execution_count": 105,
      "outputs": [
        {
          "output_type": "stream",
          "name": "stdout",
          "text": [
            "[[13  1  0]\n",
            " [ 0 13  1]\n",
            " [ 0  4  6]]\n"
          ]
        }
      ]
    },
    {
      "cell_type": "code",
      "metadata": {
        "id": "LW5Xw01rN2EO"
      },
      "source": [
        "import seaborn as sns\n",
        "import pandas as pd"
      ],
      "execution_count": 106,
      "outputs": []
    },
    {
      "cell_type": "code",
      "metadata": {
        "colab": {
          "base_uri": "https://localhost:8080/",
          "height": 281
        },
        "id": "8H4BJds_N7hu",
        "outputId": "49f9a4a2-aa97-4fb2-9fdd-bdfb28807b68"
      },
      "source": [
        "ax = plt.axes()\n",
        "df_cm = cm\n",
        "sns.heatmap(df_cm, annot=True, annot_kws={\"size\": 30}, fmt='d',cmap=\"BrBG\", ax = ax )\n",
        "ax.set_title('Confusion Matrix')\n",
        "plt.show()"
      ],
      "execution_count": 132,
      "outputs": [
        {
          "output_type": "display_data",
          "data": {
            "image/png": "[encoded data removed]",
            "text/plain": [
              "<Figure size 432x288 with 2 Axes>"
            ]
          },
          "metadata": {
            "needs_background": "light"
          }
        }
      ]
    }
  ]
}