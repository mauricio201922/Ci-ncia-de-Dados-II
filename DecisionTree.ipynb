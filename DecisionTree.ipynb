{
  "nbformat": 4,
  "nbformat_minor": 0,
  "metadata": {
    "colab": {
      "name": "DecisionTree.ipynb",
      "provenance": [],
      "mount_file_id": "https://github.com/mauricio201922/DataScience-2/blob/main/DecisionTree.ipynb",
      "authorship_tag": "ABX9TyNVT4kxNTmlAqiQWK7AiHgU",
      "include_colab_link": true
    },
    "kernelspec": {
      "name": "python3",
      "display_name": "Python 3"
    },
    "language_info": {
      "name": "python"
    }
  },
  "cells": [
    {
      "cell_type": "markdown",
      "metadata": {
        "id": "view-in-github",
        "colab_type": "text"
      },
      "source": [
        "<a href=\"https://colab.research.google.com/github/mauricio201922/DataScience-2/blob/main/DecisionTree.ipynb\" target=\"_parent\"><img src=\"https://colab.research.google.com/assets/colab-badge.svg\" alt=\"Open In Colab\"/></a>"
      ]
    },
    {
      "cell_type": "code",
      "metadata": {
        "colab": {
          "base_uri": "https://localhost:8080/"
        },
        "id": "KLvmUNskvaHa",
        "outputId": "664245da-5f64-44c2-9d09-a90b5e672032"
      },
      "source": [
        "from google.colab import drive\n",
        "drive.mount('/content/drive')"
      ],
      "execution_count": 1,
      "outputs": [
        {
          "output_type": "stream",
          "name": "stdout",
          "text": [
            "Drive already mounted at /content/drive; to attempt to forcibly remount, call drive.mount(\"/content/drive\", force_remount=True).\n"
          ]
        }
      ]
    },
    {
      "cell_type": "code",
      "metadata": {
        "id": "RDdR789I520Q"
      },
      "source": [
        "#Import data and modules\n",
        "import numpy as np\n",
        "import math"
      ],
      "execution_count": 2,
      "outputs": []
    },
    {
      "cell_type": "code",
      "metadata": {
        "id": "_Qf3Yy-_6A09"
      },
      "source": [
        "import pandas as pd\n",
        "atributos = ['SepalLength', 'SepalWidth', 'PetalLength', 'PetalWidth', 'Class']\n",
        "df = pd.read_csv('/content/drive/MyDrive/iris.data.csv', delimiter=',', names=atributos)\n",
        "\n",
        "# Definimos uma matriz \"X\" com as caracteristicas que representam uma flor Iris.\n",
        "X = df[df.columns.difference(['Class'])].values\n",
        "\n",
        "# E um vetor \"y\" com das classes de cada uma das flores.\n",
        "y = df['Class'].values"
      ],
      "execution_count": 3,
      "outputs": []
    },
    {
      "cell_type": "code",
      "metadata": {
        "id": "xmSQFwop6_ZV"
      },
      "source": [
        "def entropia(probabilidades):\n",
        "    return sum(-p * math.log(p, 2) for p in probabilidades if p)"
      ],
      "execution_count": 4,
      "outputs": []
    },
    {
      "cell_type": "code",
      "metadata": {
        "colab": {
          "base_uri": "https://localhost:8080/"
        },
        "id": "mnFX6M3G7HQ0",
        "outputId": "e692c6db-36ee-469e-9cb3-46ed58892445"
      },
      "source": [
        "p1 = 50.0/150.0\n",
        "p2 = 50.0/150.0\n",
        "p3 = 50.0/150.0\n",
        "print(entropia([p1, p2, p3]))"
      ],
      "execution_count": 5,
      "outputs": [
        {
          "output_type": "stream",
          "name": "stdout",
          "text": [
            "1.584962500721156\n"
          ]
        }
      ]
    },
    {
      "cell_type": "code",
      "metadata": {
        "colab": {
          "base_uri": "https://localhost:8080/",
          "height": 401
        },
        "id": "Uo80mlhX9Wt4",
        "outputId": "fbe80c7f-27f1-4f4c-bfd1-a5374c833774"
      },
      "source": [
        "from sklearn.tree import DecisionTreeClassifier\n",
        "from sklearn import tree\n",
        "\n",
        "iris_classificador = DecisionTreeClassifier(criterion='entropy', max_depth=3)\n",
        "\n",
        "# A função fit é usada para treinar o modelo, com base nas entradas X\n",
        "# ('SepalLength', 'SepalWidth', 'PetalLength', 'PetalWidth') deve\n",
        "# aprender a classificar y ('Class').\n",
        "cls = iris_classificador.fit(X, y)\n",
        "tree.plot_tree(cls)"
      ],
      "execution_count": 16,
      "outputs": [
        {
          "output_type": "execute_result",
          "data": {
            "text/plain": [
              "[Text(125.55000000000001, 190.26, 'X[0] <= 2.45\\nentropy = 1.585\\nsamples = 150\\nvalue = [50, 50, 50]'),\n",
              " Text(83.7, 135.9, 'entropy = 0.0\\nsamples = 50\\nvalue = [50, 0, 0]'),\n",
              " Text(167.4, 135.9, 'X[1] <= 1.75\\nentropy = 1.0\\nsamples = 100\\nvalue = [0, 50, 50]'),\n",
              " Text(83.7, 81.53999999999999, 'X[0] <= 4.95\\nentropy = 0.445\\nsamples = 54\\nvalue = [0, 49, 5]'),\n",
              " Text(41.85, 27.180000000000007, 'entropy = 0.146\\nsamples = 48\\nvalue = [0, 47, 1]'),\n",
              " Text(125.55000000000001, 27.180000000000007, 'entropy = 0.918\\nsamples = 6\\nvalue = [0, 2, 4]'),\n",
              " Text(251.10000000000002, 81.53999999999999, 'X[0] <= 4.85\\nentropy = 0.151\\nsamples = 46\\nvalue = [0, 1, 45]'),\n",
              " Text(209.25, 27.180000000000007, 'entropy = 0.918\\nsamples = 3\\nvalue = [0, 1, 2]'),\n",
              " Text(292.95, 27.180000000000007, 'entropy = 0.0\\nsamples = 43\\nvalue = [0, 0, 43]')]"
            ]
          },
          "metadata": {},
          "execution_count": 16
        },
        {
          "output_type": "display_data",
          "data": {
            "image/png": "[encoded data removed]",
            "text/plain": [
              "<Figure size 432x288 with 1 Axes>"
            ]
          },
          "metadata": {
            "needs_background": "light"
          }
        }
      ]
    },
    {
      "cell_type": "markdown",
      "metadata": {
        "id": "Uv7H7oBg9rCA"
      },
      "source": [
        "### 'novos exemplos' vai receber um arrary de tamanho 3, tres subarray terá cada tamanho 4.\n",
        "\n",
        "- a função predict do sklearnTree vai classificar as amostras da variavel novos_exemplos\n",
        "- a saida trás as classes existente de cada flor iris \n",
        "---\n",
        "temos 'Iris-setosa', 'Iris-versicolor' e 'Iris-virginica'"
      ]
    },
    {
      "cell_type": "code",
      "metadata": {
        "colab": {
          "base_uri": "https://localhost:8080/"
        },
        "id": "FcMW66289qgw",
        "outputId": "7266d1c8-2ae2-40ab-a792-b01dbd1c678f"
      },
      "source": [
        "novos_exemplos = [[1.6, 0.5, 5.0, 3.6], [4.2, 1.2, 5.8, 2.7], [5.2, 2.4, 7.0, 3.2]]\n",
        "\n",
        "# Função predict classificar novos exemplos de amostras.\n",
        "print(iris_classificador.predict(novos_exemplos))"
      ],
      "execution_count": 14,
      "outputs": [
        {
          "output_type": "stream",
          "name": "stdout",
          "text": [
            "['Iris-setosa' 'Iris-versicolor' 'Iris-virginica']\n"
          ]
        }
      ]
    },
    {
      "cell_type": "markdown",
      "metadata": {
        "id": "GqschoiG_WAz"
      },
      "source": [
        "### A validação cruzada é uma forma de tentar avaliar o quanto seu modelo está conseguindo aprender a classificar os dados. A ideia é dividir o dataset em n partes iguais e para cada uma das n partes, esconde uma parte para teste e usa as demais para treino.\n",
        "---\n",
        "### Nesse exemplo, vou dividir o dataset em 5 partes, por tanto cada parte terá 20 amostras do dataset, então a validação cruzada vai pegar uma dessas partes com 20 amostras e guardar para usar no teste e usar 80 amostras para treinar o Decision Tree. Isso será feito 5 vezes, uma para cada parte, e no final imprime a média do resultado do teste de cada parte."
      ]
    },
    {
      "cell_type": "code",
      "metadata": {
        "colab": {
          "base_uri": "https://localhost:8080/"
        },
        "id": "KZIyqp2V-ZmV",
        "outputId": "59f4bf27-9653-44c2-bfd0-220f6645e514"
      },
      "source": [
        "from sklearn.model_selection import cross_val_score\n",
        "avaliacao = cross_val_score(iris_classificador, X, y, scoring='accuracy', cv=5)\n",
        "print(avaliacao.mean())"
      ],
      "execution_count": 15,
      "outputs": [
        {
          "output_type": "stream",
          "name": "stdout",
          "text": [
            "0.96\n"
          ]
        }
      ]
    }
  ]
}