{
  "nbformat": 4,
  "nbformat_minor": 0,
  "metadata": {
    "colab": {
      "name": "DecisionTree.ipynb",
      "provenance": [],
      "mount_file_id": "12Z5EVTuKqx8IsKcdVA9-XLfzqCqLdE6k",
      "authorship_tag": "ABX9TyNBQOT3UDkRXQhN72mm7w3O",
      "include_colab_link": true
    },
    "kernelspec": {
      "name": "python3",
      "display_name": "Python 3"
    },
    "language_info": {
      "name": "python"
    }
  },
  "cells": [
    {
      "cell_type": "markdown",
      "metadata": {
        "id": "view-in-github",
        "colab_type": "text"
      },
      "source": [
        "<a href=\"https://colab.research.google.com/github/mauricio201922/DataScience-2/blob/main/DecisionTree.ipynb\" target=\"_parent\"><img src=\"https://colab.research.google.com/assets/colab-badge.svg\" alt=\"Open In Colab\"/></a>"
      ]
    },
    {
      "cell_type": "code",
      "metadata": {
        "colab": {
          "base_uri": "https://localhost:8080/"
        },
        "id": "KLvmUNskvaHa",
        "outputId": "913e429d-dc1f-4e60-bee7-c9ae3748baf1"
      },
      "source": [
        "from google.colab import drive\n",
        "drive.mount('/content/drive')"
      ],
      "execution_count": 15,
      "outputs": [
        {
          "output_type": "stream",
          "name": "stdout",
          "text": [
            "Drive already mounted at /content/drive; to attempt to forcibly remount, call drive.mount(\"/content/drive\", force_remount=True).\n"
          ]
        }
      ]
    },
    {
      "cell_type": "code",
      "metadata": {
        "id": "RDdR789I520Q"
      },
      "source": [
        "#Import data and modules\n",
        "import numpy as np\n",
        "import math"
      ],
      "execution_count": 22,
      "outputs": []
    },
    {
      "cell_type": "code",
      "metadata": {
        "id": "_Qf3Yy-_6A09"
      },
      "source": [
        "import pandas as pd\n",
        "atributos = ['SepalLength', 'SepalWidth', 'PetalLength', 'PetalWidth', 'Class']\n",
        "df = pd.read_csv('/content/drive/MyDrive/iris.data.csv', delimiter=',', names=atributos)\n",
        "\n",
        "# Definimos uma matriz \"X\" com as caracteristicas que representam uma flor Iris.\n",
        "X = df[df.columns.difference(['Class'])].values\n",
        "\n",
        "# E um vetor \"y\" com das classes de cada uma das flores.\n",
        "y = df['Class'].values"
      ],
      "execution_count": 21,
      "outputs": []
    },
    {
      "cell_type": "code",
      "metadata": {
        "id": "xmSQFwop6_ZV"
      },
      "source": [
        "def entropia(probabilidades):\n",
        "    return sum(-p * math.log(p, 2) for p in probabilidades if p)"
      ],
      "execution_count": 7,
      "outputs": []
    },
    {
      "cell_type": "code",
      "metadata": {
        "colab": {
          "base_uri": "https://localhost:8080/"
        },
        "id": "mnFX6M3G7HQ0",
        "outputId": "27f50e8e-d710-4207-f650-e4512e781f39"
      },
      "source": [
        "p1 = 50.0/150.0\n",
        "p2 = 50.0/150.0\n",
        "p3 = 50.0/150.0\n",
        "print(entropia([p1, p2, p3]))"
      ],
      "execution_count": 10,
      "outputs": [
        {
          "output_type": "stream",
          "name": "stdout",
          "text": [
            "1.584962500721156\n"
          ]
        }
      ]
    },
    {
      "cell_type": "code",
      "metadata": {
        "colab": {
          "base_uri": "https://localhost:8080/"
        },
        "id": "Uo80mlhX9Wt4",
        "outputId": "3826070e-ab35-4222-cb95-9c5a46d83bd9"
      },
      "source": [
        "from sklearn.tree import DecisionTreeClassifier\n",
        "\n",
        "iris_classificador = DecisionTreeClassifier(random_state=1234, criterion='entropy', max_depth=3)\n",
        "\n",
        "# A função fit é usada para treinar o modelo, com base nas entradas X\n",
        "# ('SepalLength', 'SepalWidth', 'PetalLength', 'PetalWidth') deve\n",
        "# aprender a classificar y ('Class').\n",
        "iris_classificador.fit(X, y)"
      ],
      "execution_count": 23,
      "outputs": [
        {
          "output_type": "execute_result",
          "data": {
            "text/plain": [
              "DecisionTreeClassifier(ccp_alpha=0.0, class_weight=None, criterion='entropy',\n",
              "                       max_depth=3, max_features=None, max_leaf_nodes=None,\n",
              "                       min_impurity_decrease=0.0, min_impurity_split=None,\n",
              "                       min_samples_leaf=1, min_samples_split=2,\n",
              "                       min_weight_fraction_leaf=0.0, presort='deprecated',\n",
              "                       random_state=1234, splitter='best')"
            ]
          },
          "metadata": {},
          "execution_count": 23
        }
      ]
    },
    {
      "cell_type": "markdown",
      "metadata": {
        "id": "Uv7H7oBg9rCA"
      },
      "source": [
        "### 'novos exemplos' vai receber um arrary de tamanho 3, tres subarray terá cada tamanho 4.\n",
        "\n",
        "- a função predict do sklearnTree vai classificar as amostras da variavel novos_exemplos\n",
        "- a saida trás as classes existente de cada flor iris \n",
        "---\n",
        "temos 'Iris-setosa', 'Iris-versicolor' e 'Iris-virginica'"
      ]
    },
    {
      "cell_type": "code",
      "metadata": {
        "colab": {
          "base_uri": "https://localhost:8080/"
        },
        "id": "FcMW66289qgw",
        "outputId": "c0c4cfa6-ce14-4511-eeaa-cc51cc231995"
      },
      "source": [
        "novos_exemplos = [[1.6, 0.5, 5.0, 3.6], [4.2, 1.2, 5.8, 2.7], [5.2, 2.4, 7.0, 3.2]]\n",
        "\n",
        "# Função predict classificar novos exemplos de amostras.\n",
        "print(iris_classificador.predict(novos_exemplos))"
      ],
      "execution_count": 24,
      "outputs": [
        {
          "output_type": "stream",
          "name": "stdout",
          "text": [
            "['Iris-setosa' 'Iris-versicolor' 'Iris-virginica']\n"
          ]
        }
      ]
    },
    {
      "cell_type": "markdown",
      "metadata": {
        "id": "GqschoiG_WAz"
      },
      "source": [
        "### A validação cruzada é uma forma de tentar avaliar o quanto seu modelo está conseguindo aprender a classificar os dados. A ideia é dividir o dataset em n partes iguais e para cada uma das n partes, esconde uma parte para teste e usa as demais para treino.\n",
        "---\n",
        "### Nesse exemplo, vou dividir o dataset em 5 partes, por tanto cada parte terá 20 amostras do dataset, então a validação cruzada vai pegar uma dessas partes com 20 amostras e guardar para usar no teste e usar 80 amostras para treinar o Decision Tree. Isso será feito 5 vezes, uma para cada parte, e no final imprime a média do resultado do teste de cada parte."
      ]
    },
    {
      "cell_type": "code",
      "metadata": {
        "colab": {
          "base_uri": "https://localhost:8080/"
        },
        "id": "KZIyqp2V-ZmV",
        "outputId": "55e4c147-3667-4d7b-c432-e9b2898391ba"
      },
      "source": [
        "from sklearn.model_selection import cross_val_score\n",
        "avaliacao = cross_val_score(iris_classificador, X, y, scoring='accuracy', cv=5)\n",
        "print(avaliacao.mean())"
      ],
      "execution_count": 27,
      "outputs": [
        {
          "output_type": "stream",
          "name": "stdout",
          "text": [
            "0.96\n"
          ]
        }
      ]
    }
  ]
}