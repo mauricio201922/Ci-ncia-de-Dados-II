{
  "nbformat": 4,
  "nbformat_minor": 0,
  "metadata": {
    "colab": {
      "name": "Aula2.ipynb",
      "provenance": [],
      "collapsed_sections": [],
      "mount_file_id": "1BAek5lvxSvlr3eJLMEhemunwfwL3iAda",
      "authorship_tag": "ABX9TyPWAqLiNAhXF0YvrDZiLQ17",
      "include_colab_link": true
    },
    "kernelspec": {
      "name": "python3",
      "display_name": "Python 3"
    },
    "language_info": {
      "name": "python"
    }
  },
  "cells": [
    {
      "cell_type": "markdown",
      "metadata": {
        "id": "view-in-github",
        "colab_type": "text"
      },
      "source": [
        "<a href=\"https://colab.research.google.com/github/mauricio201922/DataScience-2/blob/main/Aula2.ipynb\" target=\"_parent\"><img src=\"https://colab.research.google.com/assets/colab-badge.svg\" alt=\"Open In Colab\"/></a>"
      ]
    },
    {
      "cell_type": "markdown",
      "metadata": {
        "id": "S79J6Loa46is"
      },
      "source": [
        "# Naive Bayes\n",
        "\n",
        "### O que é o algoritmo Naive Bayes?\n",
        "\n",
        "É uma técnica de classificação baseado no teorema de Bayes com uma suposição de\n",
        "independência entre os preditores. Em termos simples, um classificador Naive Bayes\n",
        "assume que a presença de uma característica particular não está relacionada com a\n",
        "presença de qualquer outra característica.\n",
        "\n",
        "Por exemplo, um fruto pode ser considerado como uma maçã se é vermelho, redondo, e\n",
        "tiver um certo diâmetro. Mesmo que essas características dependam umas das outras,\n",
        "todas contribuem de forma independente para a probabilidade de que este fruto é uma\n",
        "maçã e é por isso que é conhecido como ‘Naiveʼ (ingênuo).\n",
        "\n"
      ]
    },
    {
      "cell_type": "code",
      "metadata": {
        "id": "S8yRvVG5EXny"
      },
      "source": [
        "import re"
      ],
      "execution_count": 49,
      "outputs": []
    },
    {
      "cell_type": "code",
      "metadata": {
        "id": "1hXGyEw8D3Ol"
      },
      "source": [
        "def tokenize(message):\n",
        "  message = message.lower()\n",
        "  all_words = re.findall('[a-z0-9]+', message)\n",
        "  return set(all_words)\n"
      ],
      "execution_count": 50,
      "outputs": []
    },
    {
      "cell_type": "code",
      "metadata": {
        "colab": {
          "base_uri": "https://localhost:8080/"
        },
        "id": "zVVmocv7E4D3",
        "outputId": "5417a9d9-8aa0-43df-eac3-1cddbf51e571"
      },
      "source": [
        "re.findall('[a-z0-9]+', 'Hello World ! ? 9'.lower())"
      ],
      "execution_count": 51,
      "outputs": [
        {
          "output_type": "execute_result",
          "data": {
            "text/plain": [
              "['hello', 'world', '9']"
            ]
          },
          "metadata": {},
          "execution_count": 51
        }
      ]
    },
    {
      "cell_type": "code",
      "metadata": {
        "id": "jXig1XWQFtV7"
      },
      "source": [
        "def count_words(training_set):\n",
        "  \"\"\"training set consists of pairs (message, is_spam)\"\"\"\n",
        "  counts = defaultdict(lambda: [0, 0])\n",
        "  for message, is_spam in training_set:\n",
        "    for word in tokenize(message):\n",
        "      counts[word][0 if is_spam else 1] += 1\n",
        "  return counts"
      ],
      "execution_count": 52,
      "outputs": []
    },
    {
      "cell_type": "code",
      "metadata": {
        "id": "9JtcDef0HWLJ"
      },
      "source": [
        "def word_probabilities(counts, total_spams, total_non_spams, k=0.5):\n",
        "  \"\"\"turn the word_counts into a list of triplets w, p(w | spam) and p(w | ~spam)\"\"\"\n",
        "  return [(w,\n",
        "           (spams + k) / (total_spams + 2 * k),\n",
        "           (non_spams + k) / (total_non_spams + 2 * k))\n",
        "           for w, (spams, non_spams) in counts.items()]"
      ],
      "execution_count": 53,
      "outputs": []
    },
    {
      "cell_type": "code",
      "metadata": {
        "id": "deQrE6-5Idel"
      },
      "source": [
        "import math"
      ],
      "execution_count": 54,
      "outputs": []
    },
    {
      "cell_type": "code",
      "metadata": {
        "id": "SJzMVkynIeYM"
      },
      "source": [
        "def spam_probabilities(word_probs, message):\n",
        "  message_words = tokenize(message)\n",
        "  log_prob_if_spam = log_prob_if_not_spam = 0.0\n",
        "\n",
        "  # iterate through each word in our vocabulary\n",
        "  for word, prob_if_spam, prob_if_not_spam in word_probs:\n",
        "\n",
        "    # if *word* appears in the message, add the log probability of seeing it\n",
        "    if word in message_words:\n",
        "      log_prob_if_spam += math.log(prob_if_spam)\n",
        "      log_prob_if_not_spam += math.log(prob_if_not_spam)\n",
        "\n",
        "    # if *word* doesn't appear in the message add the log probability of _not_ seeing it\n",
        "    # which is log(1 - probability of seeing it)\n",
        "    else:\n",
        "      log_prob_if_spam += math.log(1.0 - prob_if_spam)\n",
        "      log_prob_if_not_spam += math.log(1.0 - prob_if_not_spam)\n",
        "    prob_if_spam = math.exp(log_prob_if_spam)\n",
        "    prob_if_not_spam = math.exp(log_prob_if_not_spam)\n",
        "    return prob_if_spam / (prob_if_spam + prob_if_not_spam)"
      ],
      "execution_count": 55,
      "outputs": []
    },
    {
      "cell_type": "code",
      "metadata": {
        "id": "OulLyY56J5OZ"
      },
      "source": [
        "class NaiveBayesClassifier:\n",
        "\n",
        "  def __init__(self, k=0.5):\n",
        "    self.k = k\n",
        "    self.word_probs = []\n",
        "\n",
        "  def train(self, training_set):\n",
        "    # count spam and non-spam messages\n",
        "    num_spams = len([is_spam\n",
        "                    for message, is_spam in training_set\n",
        "                    if is_spam])\n",
        "    num_non_spams = len(training_set) - num_spams\n",
        "\n",
        "    # run training data through our \"pipeline\"\n",
        "    word_counts = count_words(training_set)\n",
        "    self.word_probs = word_probabilities(word_counts, \n",
        "                                         num_spams, \n",
        "                                         num_non_spams, \n",
        "                                         self.k)\n",
        "    \n",
        "  def classify(self, message):\n",
        "    return spam_probabilities(self.word_probs, message)"
      ],
      "execution_count": 65,
      "outputs": []
    },
    {
      "cell_type": "code",
      "metadata": {
        "id": "nP7Xp1IvMcn6"
      },
      "source": [
        "import glob, re\n",
        "path = r\"/content/drive/MyDrive/Ciência da Computação/4° Ano/2º Semestre/1º Bimestre/Data Science II/Files/*\"\n",
        "data = []\n",
        "\n",
        "# glob.glob returns every filename that matches the wildcarded path\n",
        "for fn in glob.glob(path):\n",
        "  is_spam = True if \"ham\" not in fn else False\n",
        "  with open(fn,'r', encoding=\"utf8\", errors='ignore') as file:\n",
        "    for line in file:\n",
        "      if line.startswith(\"Subject:\"):\n",
        "        # remove the leading \"Subject: \" and keep what's left\n",
        "        subject = re.sub(r\"^Subject: \", \"\", line).strip()\n",
        "        data.append((subject, is_spam))"
      ],
      "execution_count": 66,
      "outputs": []
    },
    {
      "cell_type": "code",
      "metadata": {
        "colab": {
          "base_uri": "https://localhost:8080/"
        },
        "id": "4bb8q16OnSGR",
        "outputId": "5057efaf-e7d1-4228-8551-cee9d4d3f67e"
      },
      "source": [
        "len(data)"
      ],
      "execution_count": 67,
      "outputs": [
        {
          "output_type": "execute_result",
          "data": {
            "text/plain": [
              "1006"
            ]
          },
          "metadata": {},
          "execution_count": 67
        }
      ]
    },
    {
      "cell_type": "code",
      "metadata": {
        "colab": {
          "base_uri": "https://localhost:8080/"
        },
        "id": "54DL7vmpnjeP",
        "outputId": "0154f2d6-3a2f-41ed-bea3-7d3b9f8e6064"
      },
      "source": [
        "data[-5:-1]"
      ],
      "execution_count": 68,
      "outputs": [
        {
          "output_type": "execute_result",
          "data": {
            "text/plain": [
              "[('[ILUG] Guaranteed to lose 10-12 lbs in 30 days 10.206', True),\n",
              " ('Guaranteed to lose 10-12 lbs in 30 days                          11.150',\n",
              "  True),\n",
              " ('Guaranteed to lose 10-12 lbs in 30 days                          11.150',\n",
              "  True),\n",
              " ('Re: Fw: User Name & Password to Membership To 5 Sites zzzz@spamassassin.taint.org pviqg',\n",
              "  True)]"
            ]
          },
          "metadata": {},
          "execution_count": 68
        }
      ]
    },
    {
      "cell_type": "code",
      "metadata": {
        "id": "0LoM9iqRvHli"
      },
      "source": [
        "import random\n",
        "from collections import defaultdict\n",
        "\n",
        "def split_data(data, prob):\n",
        "  \"\"\"divide os dados en frações [prob, 1 - prob]\"\"\"\n",
        "  results = [], []\n",
        "  \n",
        "  for row in data:\n",
        "    results[0 if random.random() < prob else 1].append(row)\n",
        "  return results"
      ],
      "execution_count": 69,
      "outputs": []
    },
    {
      "cell_type": "code",
      "metadata": {
        "id": "1IOehwsHvN8Y"
      },
      "source": [
        "random.seed(0)\n",
        "train_data, test_data = split_data(data, 0.75)"
      ],
      "execution_count": 70,
      "outputs": []
    },
    {
      "cell_type": "code",
      "metadata": {
        "colab": {
          "base_uri": "https://localhost:8080/"
        },
        "id": "6wmaoh_dvsgv",
        "outputId": "88e330a5-0c9f-4dfa-a5d2-25985acf8b38"
      },
      "source": [
        "print('Train data size=', len(train_data),\n",
        "      'Test data size=', len(test_data))"
      ],
      "execution_count": 71,
      "outputs": [
        {
          "output_type": "stream",
          "text": [
            "Train data size= 763 Test data size= 243\n"
          ],
          "name": "stdout"
        }
      ]
    },
    {
      "cell_type": "code",
      "metadata": {
        "id": "EiVlgH2sv-gn"
      },
      "source": [
        "# criando e treinando um classificador\n",
        "classifier = NaiveBayesClassifier()\n",
        "classifier.train(train_data)"
      ],
      "execution_count": 72,
      "outputs": []
    },
    {
      "cell_type": "code",
      "metadata": {
        "colab": {
          "base_uri": "https://localhost:8080/"
        },
        "id": "Do1JDBYk3HMb",
        "outputId": "95102fec-3273-45d9-d6eb-2a10f48e4fc0"
      },
      "source": [
        "print(classifier.classify(\"Life Insurance - Why Pay More?\"))\n",
        "print(classifier.classify(\"This week: Deck, Tex-Edit Plus, Boom\"))\n",
        "print(classifier.classify(\"Data Science Class\"))"
      ],
      "execution_count": 73,
      "outputs": [
        {
          "output_type": "stream",
          "text": [
            "0.6516187870497036\n",
            "0.6516187870497036\n",
            "0.6516187870497036\n"
          ],
          "name": "stdout"
        }
      ]
    },
    {
      "cell_type": "code",
      "metadata": {
        "id": "8DwMhszy4ApH"
      },
      "source": [
        "from collections import Counter\n",
        "import math\n",
        "\n",
        "# triplets (subject, actual is_spam, predicted spam probability)\n",
        "classified = [(subject, is_spam, classifier.classify(subject))\n",
        "              for subject, is_spam in test_data]\n",
        "\n",
        "# assume that spam_probability > 0.5 corresponds to spam prediction\n",
        "# and count the combinations of (actual is_spam, predicted is_spam)\n",
        "counts = Counter((is_spam, spam_probability > 0.5)\n",
        "                  for _, is_spam, spam_probability in classified)"
      ],
      "execution_count": 74,
      "outputs": []
    },
    {
      "cell_type": "code",
      "metadata": {
        "colab": {
          "base_uri": "https://localhost:8080/"
        },
        "id": "OX_6EO5Z4LRu",
        "outputId": "892da7f3-518c-483c-d79f-8f9070af630a"
      },
      "source": [
        "#print(classified)\n",
        "print(counts)"
      ],
      "execution_count": 75,
      "outputs": [
        {
          "output_type": "stream",
          "text": [
            "Counter({(True, True): 225, (True, False): 18})\n"
          ],
          "name": "stdout"
        }
      ]
    },
    {
      "cell_type": "code",
      "metadata": {
        "id": "_zuXvt_D4eot"
      },
      "source": [
        "def precision(tp, fp, fn, tn):\n",
        "  return tp / (tp + fp)\n",
        "def recall(tp, fp, fn, tn):\n",
        "  return tp / (tp + fn)\n",
        "def f1_score(tp, fp, fn, tn):\n",
        "  p = precision(tp, fp, fn, tn)\n",
        "  r = recall(tp, fp, fn, tn)\n",
        "  return 2 * p * r / (p + r)"
      ],
      "execution_count": 76,
      "outputs": []
    },
    {
      "cell_type": "code",
      "metadata": {
        "colab": {
          "base_uri": "https://localhost:8080/"
        },
        "id": "9TpP9p0G4iwV",
        "outputId": "af9387a3-be2a-4a4b-fb8c-d707f1cf077e"
      },
      "source": [
        "print(\"precision = \", precision(101, 33, 38, 704))\n",
        "print(\"recall = \", recall(101, 33, 38, 704))\n",
        "print(\"f1-score = \", f1_score(101, 33, 38, 704))"
      ],
      "execution_count": 77,
      "outputs": [
        {
          "output_type": "stream",
          "text": [
            "precision =  0.753731343283582\n",
            "recall =  0.7266187050359713\n",
            "f1-score =  0.73992673992674\n"
          ],
          "name": "stdout"
        }
      ]
    },
    {
      "cell_type": "code",
      "metadata": {
        "colab": {
          "base_uri": "https://localhost:8080/"
        },
        "id": "Ezu9cp1H4lqX",
        "outputId": "141fe649-f059-4ee1-d1a2-9db137b06be2"
      },
      "source": [
        "classified[:1]"
      ],
      "execution_count": 78,
      "outputs": [
        {
          "output_type": "execute_result",
          "data": {
            "text/plain": [
              "[('[ILUG-Social] re: Guaranteed to lose 10-12 lbs in 30 days 10.148',\n",
              "  True,\n",
              "  0.11471610660486675)]"
            ]
          },
          "metadata": {},
          "execution_count": 78
        }
      ]
    },
    {
      "cell_type": "code",
      "metadata": {
        "id": "Le2nQ8QU4oXE"
      },
      "source": [
        "# sort by spam_probability from smallest to largest\n",
        "classified.sort(key=lambda row: row[2])\n",
        "\n",
        "# the highest predicted spam probabilities among the non-spams\n",
        "spammiest_hams_f = filter(lambda row: not row[1], classified)\n",
        "spammiest_hams = list(spammiest_hams_f)[-5:]\n",
        "\n",
        "# the lowest predicted spam probabilities among the actual spams\n",
        "hammiest_spams_f = filter(lambda row: row[1], classified)\n",
        "hammiest_spams = list(hammiest_spams_f)[:5]"
      ],
      "execution_count": 79,
      "outputs": []
    },
    {
      "cell_type": "code",
      "metadata": {
        "colab": {
          "base_uri": "https://localhost:8080/"
        },
        "id": "AeRqD5ei4q_d",
        "outputId": "6b154e30-0d00-442c-c0c0-3b267c7d620e"
      },
      "source": [
        "print(spammiest_hams)"
      ],
      "execution_count": 80,
      "outputs": [
        {
          "output_type": "stream",
          "text": [
            "[]\n"
          ],
          "name": "stdout"
        }
      ]
    },
    {
      "cell_type": "code",
      "metadata": {
        "colab": {
          "base_uri": "https://localhost:8080/"
        },
        "id": "NUMSFRQh4tj9",
        "outputId": "04aa963d-161e-40a6-9d92-33c78a8717f8"
      },
      "source": [
        "print(hammiest_spams)"
      ],
      "execution_count": 81,
      "outputs": [
        {
          "output_type": "stream",
          "text": [
            "[('[ILUG-Social] re: Guaranteed to lose 10-12 lbs in 30 days 10.148', True, 0.11471610660486675), ('[ILUG-Social] re: Guaranteed to lose 10-12 lbs in 30 days 10.148', True, 0.11471610660486675), ('Re: Your bank account', True, 0.11471610660486675), ('Re: Hi', True, 0.11471610660486675), ('Re: PROTECT YOUR COMPUTER AGAINST HARMFUL VIRUSES! 21198', True, 0.11471610660486675)]\n"
          ],
          "name": "stdout"
        }
      ]
    },
    {
      "cell_type": "code",
      "metadata": {
        "id": "X4JZnleF4vZ9"
      },
      "source": [
        "def drop_final_s(word):\n",
        "  return re.sub(\"s$\", \"\", word)"
      ],
      "execution_count": 82,
      "outputs": []
    },
    {
      "cell_type": "code",
      "metadata": {
        "colab": {
          "base_uri": "https://localhost:8080/",
          "height": 35
        },
        "id": "MBmev79m4xXU",
        "outputId": "655cd40d-c883-42ed-f2b6-2dbe420887f2"
      },
      "source": [
        "drop_final_s('hands')"
      ],
      "execution_count": 83,
      "outputs": [
        {
          "output_type": "execute_result",
          "data": {
            "application/vnd.google.colaboratory.intrinsic+json": {
              "type": "string"
            },
            "text/plain": [
              "'hand'"
            ]
          },
          "metadata": {},
          "execution_count": 83
        }
      ]
    }
  ]
}