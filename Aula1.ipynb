{
  "nbformat": 4,
  "nbformat_minor": 0,
  "metadata": {
    "colab": {
      "name": "Aula1.ipynb",
      "provenance": [],
      "authorship_tag": "ABX9TyPclYoy5FDRMOpJ+NrJ7hT6",
      "include_colab_link": true
    },
    "kernelspec": {
      "name": "python3",
      "display_name": "Python 3"
    },
    "language_info": {
      "name": "python"
    }
  },
  "cells": [
    {
      "cell_type": "markdown",
      "metadata": {
        "id": "view-in-github",
        "colab_type": "text"
      },
      "source": [
        "<a href=\"https://colab.research.google.com/github/mauricio201922/DataScience-2/blob/main/Aula1.ipynb\" target=\"_parent\"><img src=\"https://colab.research.google.com/assets/colab-badge.svg\" alt=\"Open In Colab\"/></a>"
      ]
    },
    {
      "cell_type": "markdown",
      "metadata": {
        "id": "dJx3XCzvpitX"
      },
      "source": [
        "# k-Nearest Neighbors"
      ]
    },
    {
      "cell_type": "markdown",
      "metadata": {
        "id": "N2RbiQ2HpmTd"
      },
      "source": [
        "## Conceito de KNN\n",
        "Imagine que você está tentando prever como eu vou votar nas próximas eleicões presidenciais. Se vocenão sabe mais nada sobre mim (e se voce tiver os dados), uma abordagem lógica é considerar como meusvizinhos estão planejando votar. Como eu moro no centro de Seattle, meus vizinhos estão planejando votar nocandidato democrata, o que sugere que o \"candidato Democrata\" é um bom palpite pra mim também. Essa é aideia por trás da classificação dos vizinhos mais próximos."
      ]
    },
    {
      "cell_type": "markdown",
      "metadata": {
        "id": "BFdHW6V3pq5d"
      },
      "source": [
        "## O Modelo\n",
        "Os vizinhos mais próximos é um dos modelos preditivos mais simples que existe. Ele não possui premissasmatemáticas e não requer nenhum tipo de maquinário pesado. Ele apenas requer\n",
        "\n",
        "- Uma noção de distância\n",
        "- Uma premissa de que pontos que estão perto um do outro são similares\n",
        "\n",
        "O modelo KNN provavelmente não vão Ihe ajudar a entender os fatores determinantes de quaisquerfenomenos os quais você esteja considerando. Prever os meus votos baseados nos votos dos meus vizinhosnão lhe diz muito sobre o que me faz votar do meu jeito, enquanto que algum modelo alternativo que prevêmeu voto baseado (digamos) no meu salário e no meu estado civil talvez possa dizer. \n",
        "\n",
        "Em uma situação geral, temos alguns pontos de dados e um conjunto de rótulos correspondentes. Os rótulospodem ser True e False, indicando se cada entrada satisfaz algumas condição como \"é spam?\" ou \"évenenoso?\" ou \"seria bom assistir?\" Ou eles poderiam ser categorias, como classificações indicativas defilmes (L, 10, 12, 14, 16, 18). Ou eles poderiam ser nomes des candidatos à presidência. Ou eles poderiam serlinguagens de programação preferidas. \n",
        "\n",
        "No nosso caso, os pontos de dados serão vetores, o que significa que podemos usar a função **distance**que aprendemos no primeiro semestre. \n",
        "\n",
        "Digamos que escolhemos um número k como 3 ou 5. Então, quando queremos classificar alguns novospontos de dados, encontramos os pontos rotulados k mais próximos e os deixamos votar na nova saida (novoponto de dados). Para fazer isso, precisaremos de uma função que conte os votos. Uma possibilidade é:"
      ]
    },
    {
      "cell_type": "code",
      "metadata": {
        "colab": {
          "base_uri": "https://localhost:8080/"
        },
        "id": "iDlMmhGAqf3q",
        "outputId": "7af870b5-59a6-43f6-862b-f63c417d03be"
      },
      "source": [
        "## instalações\n",
        "!pip install matplotlib"
      ],
      "execution_count": 105,
      "outputs": [
        {
          "output_type": "stream",
          "text": [
            "Requirement already satisfied: matplotlib in /usr/local/lib/python3.7/dist-packages (3.2.2)\n",
            "Requirement already satisfied: numpy>=1.11 in /usr/local/lib/python3.7/dist-packages (from matplotlib) (1.19.5)\n",
            "Requirement already satisfied: kiwisolver>=1.0.1 in /usr/local/lib/python3.7/dist-packages (from matplotlib) (1.3.1)\n",
            "Requirement already satisfied: python-dateutil>=2.1 in /usr/local/lib/python3.7/dist-packages (from matplotlib) (2.8.1)\n",
            "Requirement already satisfied: pyparsing!=2.0.4,!=2.1.2,!=2.1.6,>=2.0.1 in /usr/local/lib/python3.7/dist-packages (from matplotlib) (2.4.7)\n",
            "Requirement already satisfied: cycler>=0.10 in /usr/local/lib/python3.7/dist-packages (from matplotlib) (0.10.0)\n",
            "Requirement already satisfied: six in /usr/local/lib/python3.7/dist-packages (from cycler>=0.10->matplotlib) (1.15.0)\n"
          ],
          "name": "stdout"
        }
      ]
    },
    {
      "cell_type": "code",
      "metadata": {
        "id": "UD9HC7EiqZfL"
      },
      "source": [
        "## imports\n",
        "from collections import Counter\n",
        "from scipy.spatial import distance\n",
        "import matplotlib.pyplot as plt"
      ],
      "execution_count": 111,
      "outputs": []
    },
    {
      "cell_type": "code",
      "metadata": {
        "id": "vDH2Mnx_p9ms"
      },
      "source": [
        "def raw_majority_vote(labels):\n",
        "  votes = Counter(labels)\n",
        "\n",
        "  winner, _ = votes.most_common(1)[0]\n",
        "\n",
        "  return winner"
      ],
      "execution_count": 114,
      "outputs": []
    },
    {
      "cell_type": "code",
      "metadata": {
        "colab": {
          "base_uri": "https://localhost:8080/",
          "height": 35
        },
        "id": "pEnREC_yseyX",
        "outputId": "5def8000-7f71-4841-d04c-5e249610a7ff"
      },
      "source": [
        "raw_majority_vote(['L', 'L', 10, 10, 12])"
      ],
      "execution_count": 115,
      "outputs": [
        {
          "output_type": "execute_result",
          "data": {
            "application/vnd.google.colaboratory.intrinsic+json": {
              "type": "string"
            },
            "text/plain": [
              "'L'"
            ]
          },
          "metadata": {
            "tags": []
          },
          "execution_count": 115
        }
      ]
    },
    {
      "cell_type": "code",
      "metadata": {
        "id": "piKzoGCDy9Sl"
      },
      "source": [
        "def majority_vote(labels):\n",
        "  \"\"\"assumes that labels are ordered from nearest to farthest\"\"\"\n",
        "  vote_counts = Counter(labels)\n",
        "  winner, winner_count = vote_counts.most_common(1)[0]\n",
        "  num_winners = len([count \n",
        "                     for count in vote_counts.values()\n",
        "                     if count == winner_count])\n",
        "  \n",
        "  if num_winners == 1:\n",
        "    return winner\n",
        "  else:\n",
        "    return majority_vote(labels[:-1])"
      ],
      "execution_count": 116,
      "outputs": []
    },
    {
      "cell_type": "code",
      "metadata": {
        "colab": {
          "base_uri": "https://localhost:8080/"
        },
        "id": "s-dvEp48KHNK",
        "outputId": "e993d25d-701b-46c0-a183-e5e3ce0ee03d"
      },
      "source": [
        "print(raw_majority_vote(['L', 'L', 10, 10, 12]))\n",
        "print(majority_vote(['L', 'L', 10, 10, 12]))"
      ],
      "execution_count": 117,
      "outputs": [
        {
          "output_type": "stream",
          "text": [
            "L\n",
            "L\n"
          ],
          "name": "stdout"
        }
      ]
    },
    {
      "cell_type": "markdown",
      "metadata": {
        "id": "A6vi2iLuKOAL"
      },
      "source": [
        "É certeza que esse método funcionará em algum momento, já que no pior das hipóteses reduziríamos para\n",
        "somente um rótulo e, nesse caso, ele vence. Com essa função, é fácil criar um classificador:\n"
      ]
    },
    {
      "cell_type": "code",
      "metadata": {
        "id": "bJq2U_NWKPdR"
      },
      "source": [
        "def knn_classify(k, labeled_points, new_point):\n",
        " \"\"\"each labeled point should be a pair (point, label)\"\"\"\n",
        "\n",
        " # order the labeled points from nearest to farthest\n",
        " by_distance = sorted(labeled_points,\n",
        " key=lambda point: distance.euclidean(point[0], new_point))\n",
        "\n",
        " # find the labels for the k closest\n",
        " k_nearest_labels = [label for _, label in by_distance[:k]]\n",
        "\n",
        " # and let them vote\n",
        " return majority_vote(k_nearest_labels)"
      ],
      "execution_count": 118,
      "outputs": []
    },
    {
      "cell_type": "markdown",
      "metadata": {
        "id": "uk-7UY5aMOe0"
      },
      "source": [
        "## Exemplo: Linguagens Favoritas\n"
      ]
    },
    {
      "cell_type": "markdown",
      "metadata": {
        "id": "xuxXtz2VMTCc"
      },
      "source": [
        "Por meio de uma pesquisa descobrimos as linguagens de programação preferidas de programadores em\n",
        "algumas cidades grandes:"
      ]
    },
    {
      "cell_type": "code",
      "metadata": {
        "id": "OKLS_kwQMUrV"
      },
      "source": [
        "# each entry is ([longitude, latitude], favorite_language)\n",
        "cities = [([-122.3 , 47.53], \"Python\"), # Seattle\n",
        " ([-120.3 , 51.53], \"Python\"), # Random\n",
        " ([-121.8 , 42.53], \"Python\"), # Random\n",
        " ([-114.5 , 44.53], \"Python\"), # Random\n",
        " ([-114.1 , 41.33], \"Python\"), # Random\n",
        " ([-104.1 , 40.83], \"Python\"), # Random\n",
        " ([-106.9 , 36.93], \"Python\"), # Random\n",
        " ([-91.3 , 35.99], \"Python\"), # Random\n",
        " ([ -96.85, 32.85], \"Java\"), # Austin\n",
        " ([ -93.85, 29.85], \"Java\"), # Random\n",
        " ([ -95.85, 35.85], \"Java\"), # Random\n",
        " ([ -83.85, 37.45], \"Java\"), # Random\n",
        " ([ -87.95, 33.05], \"Java\"), # Random\n",
        " ([ -104.95, 38.05], \"Java\"), # Random\n",
        " ([ -99.15, 49.05], \"Java\"), # Random\n",
        " ([ -100.1, 43.07], \"Java\"), # Random\n",
        " ([ -89.33, 43.13], \"R\"), # Madison\n",
        " ([ -93.33, 44.53], \"R\"), # Random\n",
        " ([ -91.33, 41.13], \"R\"), # Random\n",
        " ([ -99.33, 45.13], \"R\"), # Random\n",
        " ([ -90.33, 47.53], \"R\"), # Random\n",
        " ([ -104.95, 48.05], \"R\"), # Random\n",
        " ([ -119.95, 34.95], \"R\"), # Random\n",
        " ([ -98.11, 39.95], \"R\"), # Random\n",
        " # ... and so on\n",
        "]"
      ],
      "execution_count": 119,
      "outputs": []
    },
    {
      "cell_type": "markdown",
      "metadata": {
        "id": "S0dsNpwZNG2T"
      },
      "source": [
        "Será que podemos usar esses resultados para prever as linguagens de programação favoritas para lugares\n",
        "que não faziam parte da nossa pesquisa?\n",
        "\n",
        "Como de costume, um bom primeiro passo é plotar os dados:"
      ]
    },
    {
      "cell_type": "code",
      "metadata": {
        "colab": {
          "base_uri": "https://localhost:8080/",
          "height": 281
        },
        "id": "HU-0Qh7GNJJq",
        "outputId": "d0575174-80e5-494f-9080-b936d7e0ac71"
      },
      "source": [
        "\n",
        "# key is language, value is pair (longitudes, latitudes)\n",
        "plots = { \"Java\" : ([], []), \"Python\" : ([], []), \"R\" : ([], []) }\n",
        "\n",
        "# we want each language to have a different marker and color\n",
        "markers = { \"Java\" : \"o\", \"Python\" : \"s\", \"R\" : \"^\" }\n",
        "colors = { \"Java\" : \"r\", \"Python\" : \"b\", \"R\" : \"g\" }\n",
        "\n",
        "for (longitude, latitude), language in cities:\n",
        "  plots[language][0].append(longitude)\n",
        "  plots[language][1].append(latitude)\n",
        "\n",
        "# create a scatter series for each language\n",
        "for language, (x, y) in plots.items():\n",
        "  plt.scatter(x, y, color=colors[language], marker=markers[language], label=language)\n",
        "\n",
        "#plot_state_borders(plt) # pretend we have a function that does this\n",
        "plt.legend(loc=0)\n",
        "plt.axis([-130,-60,20,55]) # let matplotlib choose the location\n",
        "\n",
        "# set the axes\n",
        "plt.title(\"Favorite Programming Languages\")\n",
        "plt.show()"
      ],
      "execution_count": 123,
      "outputs": [
        {
          "output_type": "display_data",
          "data": {
            "image/png": "[encoded data removed]",
            "text/plain": [
              "<Figure size 432x288 with 1 Axes>"
            ]
          },
          "metadata": {
            "tags": [],
            "needs_background": "light"
          }
        }
      ]
    },
    {
      "cell_type": "markdown",
      "metadata": {
        "id": "Q8cWpGts5BRL"
      },
      "source": [
        "Já que os lugares mais perto tendem a gostar da mesma linguagem, os k-vizinhos mais próximos parecem ser\n",
        "uma boa escolha para um modelo preditivo.\n",
        "Para começar, vamos ver o que acontece se tentarmos prever a linguagem preferida de cada cidade usando\n",
        "seus vizinhos em vez da própria cidade:"
      ]
    },
    {
      "cell_type": "code",
      "metadata": {
        "colab": {
          "base_uri": "https://localhost:8080/"
        },
        "id": "Xn2EsDOE5Kkx",
        "outputId": "5fedb089-266e-4064-866a-0494358f070d"
      },
      "source": [
        "from collections import Counter\n",
        "# try several different values for k\n",
        "for k in [1, 3, 5, 7]:\n",
        " num_correct = 0\n",
        " for city in cities:\n",
        "  location, actual_language = city\n",
        "  other_cities = [other_city\n",
        "    for other_city in cities\n",
        "    if other_city != city]\n",
        "  predicted_language = knn_classify(k, other_cities, location)\n",
        "  if predicted_language == actual_language:\n",
        "    num_correct += 1\n",
        " print (k, \"neighbor[s]:\", num_correct, \"correct out of\", len(cities))"
      ],
      "execution_count": 125,
      "outputs": [
        {
          "output_type": "stream",
          "text": [
            "1 neighbor[s]: 13 correct out of 24\n",
            "3 neighbor[s]: 15 correct out of 24\n",
            "5 neighbor[s]: 15 correct out of 24\n",
            "7 neighbor[s]: 17 correct out of 24\n"
          ],
          "name": "stdout"
        }
      ]
    },
    {
      "cell_type": "markdown",
      "metadata": {
        "id": "s9D9cu3K53xX"
      },
      "source": [
        "Parece que com 7 vizinhos mais próximos tivemos um melhor desempenho, mostrando o resultado correto em\n",
        "70,8 % das vezes:\n",
        "\n",
        "- 1 vizinho[s]: 13 certos de 24 -> 54,1 %\n",
        "- 3 vizinho[s]: 15 certos de 24 -> 62,5 %\n",
        "- 5 vizinho[s]: 15 certos de 24 -> 62,5 %\n",
        "- 7 vizinho[s]: 17 certos de 24 -> 70,8 %\n",
        "\n",
        "Agora podemos ver quais regiões seriam classificadas para quais linguagens dentro do esquema dos vizinhos\n",
        "mais próximos. Podemos fazer isso ao classificar uma rede inteira cheia de pontos, e então demarcá-las como\n",
        "fizemos com as cidades:"
      ]
    },
    {
      "cell_type": "code",
      "metadata": {
        "colab": {
          "base_uri": "https://localhost:8080/",
          "height": 281
        },
        "id": "ksszfCdv6LxX",
        "outputId": "8917ba91-187b-4dd9-9722-6c29cdebc5d5"
      },
      "source": [
        "plots = { \"Java\" : ([], []), \"Python\" : ([], []), \"R\" : ([], []) }\n",
        "k = 1 # or 3, or 5, or...\n",
        "for longitude in range(-130, -60):\n",
        "  for latitude in range(20, 55):\n",
        "    predicted_language = knn_classify(k, cities, [longitude, latitude])\n",
        "    plots[predicted_language][0].append(longitude)\n",
        "    plots[predicted_language][1].append(latitude)\n",
        "\n",
        "for language, (x, y) in plots.items():\n",
        "  plt.scatter(x, y, color=colors[language], marker=markers[language], label=language)\n",
        "\n",
        "#plot_state_borders(plt) # pretend we have a function that does this\n",
        "#plt.legend(loc=0)\n",
        "plt.axis([-130,-60,20,55]) # let matplotlib choose the location\n",
        "\n",
        "# set the axes\n",
        "plt.title(\"Favorite Programming Languages\")\n",
        "plt.show()"
      ],
      "execution_count": 129,
      "outputs": [
        {
          "output_type": "display_data",
          "data": {
            "image/png": "[encoded data removed]",
            "text/plain": [
              "<Figure size 432x288 with 1 Axes>"
            ]
          },
          "metadata": {
            "tags": [],
            "needs_background": "light"
          }
        }
      ]
    },
    {
      "cell_type": "markdown",
      "metadata": {
        "id": "Awc_RR0y657o"
      },
      "source": [
        "Por exemplo, a figura a seguir mostra o que acontece quando olhamos apenas o vizinho mais próximo (k=1).\n",
        "Vemos muitas mudanças abruptas de uma linguagem para outra com limites bem acentuados. Conforme\n",
        "aumentamos o número de vizinhos para três, vemos regiões mais flexíveis para cada linguagem.\n",
        "\n",
        "E conforme aumentamos os vizinhos para cinco, os limites ficam cada vez mais acentuados.\n",
        "Aqui, nossas dimensões são bastante comparáveis, mas se elas não fossem você talvez quisesse\n",
        "redimensionar os dados.\n"
      ]
    },
    {
      "cell_type": "markdown",
      "metadata": {
        "id": "wiHgP6xb68nx"
      },
      "source": [
        "## A Maldição da Dimensionalidade\n"
      ]
    },
    {
      "cell_type": "markdown",
      "metadata": {
        "id": "LZWmObW07AwU"
      },
      "source": [
        "Os k-vizinhos mais próximos entram em perigo em dimensões muito altas graças à \"maldição da da\n",
        "dimensionalidade\" que se resume ao fato de que espaços de alta dimensão são vastos. Os pontos em\n",
        "espaços de alta dimensão tendem a não ser próximos uns dos outros. Uma maneira de observar isso é gerar\n",
        "pares de pontos aleatórios em uma variedade de dimensões e calcular a distância entre eles.\n",
        "\n",
        "Gerar pontos aleatórios deve ser algo natural a partir de agora:\n"
      ]
    },
    {
      "cell_type": "code",
      "metadata": {
        "id": "gW9CBoPS7Oh8"
      },
      "source": [
        "def random_point(dim):\n",
        "  return [random.random() for _ in range(dim)]"
      ],
      "execution_count": 130,
      "outputs": []
    },
    {
      "cell_type": "markdown",
      "metadata": {
        "id": "QnLiBpky7Thb"
      },
      "source": [
        "Assim como escrever uma função que calcula as distâncias:"
      ]
    },
    {
      "cell_type": "code",
      "metadata": {
        "id": "sfiY22mB7ScT"
      },
      "source": [
        "def random_distances(dim, num_pairs):\n",
        "  return [distance.euclidean(random_point(dim), random_point(dim))\n",
        "    for _ in range(num_pairs)]"
      ],
      "execution_count": 131,
      "outputs": []
    },
    {
      "cell_type": "markdown",
      "metadata": {
        "id": "UdjGqX-g7d28"
      },
      "source": [
        "Para cada dimensão de 1 até 100, computaremos 10.000 distâncias e as usaremos para computar as\n",
        "distâncias média entre os pontos de cada dimensão.\n"
      ]
    },
    {
      "cell_type": "code",
      "metadata": {
        "id": "tGEbMgLa7gZk"
      },
      "source": [
        "import random\n",
        "import numpy as np\n",
        "\n",
        "dimensions = range(1, 101)\n",
        "avg_distances = []\n",
        "min_distances = []\n",
        "random.seed(0)\n",
        "for dim in dimensions:\n",
        "  distances = random_distances(dim, 10000) # 10,000 random pairs\n",
        "  avg_distances.append(np.mean(distances)) # track the average\n",
        "  min_distances.append(min(distances)) # track the minimum"
      ],
      "execution_count": 132,
      "outputs": []
    },
    {
      "cell_type": "code",
      "metadata": {
        "colab": {
          "base_uri": "https://localhost:8080/",
          "height": 279
        },
        "id": "2J45ytJP7tSr",
        "outputId": "65641c1f-a7e5-4802-f487-c75e704fc0ff"
      },
      "source": [
        "plt.plot(avg_distances)\n",
        "plt.plot(min_distances)\n",
        "plt.ylabel('Distancia Media')\n",
        "plt.xlabel('Quantidade de Dimensoes')\n",
        "plt.show()"
      ],
      "execution_count": 138,
      "outputs": [
        {
          "output_type": "display_data",
          "data": {
            "image/png": "[encoded data removed]",
            "text/plain": [
              "<Figure size 432x288 with 1 Axes>"
            ]
          },
          "metadata": {
            "tags": [],
            "needs_background": "light"
          }
        }
      ]
    },
    {
      "cell_type": "markdown",
      "metadata": {
        "id": "xmmtX-VY71vK"
      },
      "source": [
        "Conforme o número de dimensões aumenta, a distância média entre os pontos também aumenta.\n",
        "Mas o que é mais problemático é a relação entre a distância mais próxima e a distância média.\n"
      ]
    },
    {
      "cell_type": "code",
      "metadata": {
        "id": "GvgTnKnT73MZ"
      },
      "source": [
        "min_avg_ratio = [min_dist / avg_dist\n",
        "  for min_dist, avg_dist in zip(min_distances, avg_distances)]"
      ],
      "execution_count": 139,
      "outputs": []
    },
    {
      "cell_type": "code",
      "metadata": {
        "colab": {
          "base_uri": "https://localhost:8080/",
          "height": 279
        },
        "id": "Wv98HHzX75m5",
        "outputId": "1f28ee9b-70c0-4b1d-cc9e-85f0356fa56a"
      },
      "source": [
        "plt.plot(min_avg_ratio)\n",
        "plt.ylabel('Relacao menor distancia / distancia media')\n",
        "plt.xlabel('Quantidade de Dimensoes')\n",
        "plt.show()"
      ],
      "execution_count": 140,
      "outputs": [
        {
          "output_type": "display_data",
          "data": {
            "image/png": "[encoded data removed]",
            "text/plain": [
              "<Figure size 432x288 with 1 Axes>"
            ]
          },
          "metadata": {
            "tags": [],
            "needs_background": "light"
          }
        }
      ]
    },
    {
      "cell_type": "markdown",
      "metadata": {
        "id": "jork3o6A8RTJ"
      },
      "source": [
        "Em conjuntos de dados de baixa dimensão, os pontos mais próximos tendem a ser mais próximos do que a\n",
        "média. Mas os dois pontos estão próximos somente se eles estiverem próximos em todas as dimensões e\n",
        "cada dimensão extra - mesmo se for somente um ruído - é outra oportunidade para cada ponto ser mais\n",
        "distante dos outros.\n",
        "Quando há muitas dimensões, é provável que os pontos mais próximos não sejam tão próximos quanto a\n",
        "média, o que significa que dois pontos estarem próximos não significa muita coisa (a menos que haja\n",
        "bastanite estrutura em seus dados que faça com que eles se comportem como se estivessem em uma\n",
        "dimensão muito mais baixa)\n",
        "Uma forma diferente de pensar sobre o problema envolve a dispersão de espaços de alta dimensão. Se você\n",
        "escolher 50 números aleatórios entre 0 e l, é provável que vocé tenha uma boa parte do intervalo unitário.\n",
        "\n",
        "Se você escolher 50 pontos aleatórios no quadrado unitário, você terá menos cobertura.\n",
        "\n",
        "E em três dimensoes menos ainda. matplotlib não permite gráficos de quatro dimensoes, portanto este é o\n",
        "máximo que iremos, mas vocè já pode ver que estão começando a ter grandes espaços vazios sem pontos\n",
        "perto deles. Em mais dimensões, a menos que você tenha muito mais dados, esses espaços grandes e vazios\n",
        "representam regiões distantes de todos os pontos que você quer usar nas suas previsões.\n",
        "Então, se você estiver tentando usar os vizinhos mais próximos em uma dimensão mais alta, é provavelmente\n",
        "uma boa ideia fazer uma redução de dimensionalidade primeiro."
      ]
    }
  ]
}